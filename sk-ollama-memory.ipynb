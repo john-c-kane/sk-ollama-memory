{
 "cells": [
  {
   "cell_type": "code",
   "execution_count": 1,
   "metadata": {
    "dotnet_interactive": {
     "language": "csharp"
    },
    "polyglot_notebook": {
     "kernelName": "csharp"
    },
    "vscode": {
     "languageId": "polyglot-notebook"
    }
   },
   "outputs": [
    {
     "data": {
      "text/html": [
       "<div><div></div><div></div><div><strong>Installed Packages</strong><ul><li><span>Codeblaze.SemanticKernel.Connectors.Ollama, 1.3.0</span></li><li><span>Microsoft.SemanticKernel, 1.10.0</span></li><li><span>Microsoft.SemanticKernel.Connectors.Sqlite, 1.10.0-alpha</span></li><li><span>Microsoft.SemanticKernel.Plugins.Memory, 1.11.0-alpha</span></li><li><span>System.Linq.Async, 6.0.1</span></li><li><span>System.Net.Http.Json, 8.0.0</span></li></ul></div></div>"
      ]
     },
     "metadata": {},
     "output_type": "display_data"
    }
   ],
   "source": [
    "//example Semantic Kernel Memory with Ollama and Sqlite connectors\n",
    "//Github: based on https://github.com/BLaZeKiLL/Codeblaze.SemanticKernel\n",
    "#r \"nuget: Microsoft.SemanticKernel, 1.10.0\"\n",
    "#r \"nuget: Microsoft.SemanticKernel.Plugins.Memory, *-*\"\n",
    "#r \"nuget: Microsoft.SemanticKernel.Connectors.Sqlite, 1.10.0-alpha\"\n",
    "#r \"nuget: System.Net.Http.Json, 8.0.0\"\n",
    "#r \"nuget: Codeblaze.SemanticKernel.Connectors.Ollama, 1.3.0\"\n",
    "#r \"nuget: System.Linq.Async, 6.0.1\"\n"
   ]
  },
  {
   "cell_type": "code",
   "execution_count": 2,
   "metadata": {
    "vscode": {
     "languageId": "polyglot-notebook"
    }
   },
   "outputs": [],
   "source": [
    "using System.Net.Http;\n",
    "using System;\n",
    "using System.Collections.Generic;\n",
    "using System.Linq;\n",
    "using System.Threading.Tasks;\n",
    "using Microsoft.SemanticKernel;\n",
    "using Microsoft.SemanticKernel.Connectors.Sqlite;\n",
    "using Microsoft.SemanticKernel.Memory;\n",
    "using Kernel = Microsoft.SemanticKernel.Kernel;\n",
    "using Microsoft.SemanticKernel.Plugins.Memory;\n",
    "using Codeblaze.SemanticKernel.Connectors.Ollama;"
   ]
  },
  {
   "cell_type": "code",
   "execution_count": 3,
   "metadata": {
    "vscode": {
     "languageId": "polyglot-notebook"
    }
   },
   "outputs": [],
   "source": [
    "//instantiate kernel using openAI API with Ollama Chat URL\n",
    "#pragma warning disable SKEXP0010\n",
    "var builder = Kernel.CreateBuilder();\n",
    "var endpoint = new Uri(\"http://localhost:11434\");\n",
    "var modelId = \"llama3\";\n",
    "\n",
    "var kernelBuilder = Kernel.CreateBuilder().AddOpenAIChatCompletion( modelId: modelId, apiKey: null, endpoint: endpoint);\n",
    "var kernel = kernelBuilder.Build();"
   ]
  },
  {
   "cell_type": "code",
   "execution_count": 4,
   "metadata": {
    "vscode": {
     "languageId": "polyglot-notebook"
    }
   },
   "outputs": [],
   "source": [
    "#pragma warning disable SKEXP0001, SKEXP0020\n",
    "var builder = new MemoryBuilder();\n",
    "var embeddingEndpoint = \"http://localhost:11434\";\n",
    "var cancellationTokenSource = new System.Threading.CancellationTokenSource();\n",
    "var cancellationToken = cancellationTokenSource.Token;\n",
    "builder.WithHttpClient(new HttpClient());\n",
    "builder.WithOllamaTextEmbeddingGeneration(\"all-minilm\", embeddingEndpoint);\n",
    "//builder.WithOllamaTextEmbeddingGeneration(\"nomic-embed-text\", embeddingEndpoint);\n",
    "//builder.WithOllamaTextEmbeddingGeneration(\"mxbai-embed-large\", embeddingEndpoint);\n",
    "var sqliteMemoryStore = await SqliteMemoryStore.ConnectAsync(\"memories.sqlite\", cancellationToken);\n",
    "builder.WithMemoryStore(sqliteMemoryStore);\n",
    "var memory = builder.Build();"
   ]
  },
  {
   "cell_type": "code",
   "execution_count": 5,
   "metadata": {
    "vscode": {
     "languageId": "polyglot-notebook"
    }
   },
   "outputs": [],
   "source": [
    "const string MemoryCollectionName = \"aboutMe\";\n",
    "\n",
    "await memory.SaveInformationAsync(MemoryCollectionName, id: \"info1\", text: \"My name is Andrea\");\n",
    "await memory.SaveInformationAsync(MemoryCollectionName, id: \"info2\", text: \"I currently work as a tourist operator\");\n",
    "await memory.SaveInformationAsync(MemoryCollectionName, id: \"info3\", text: \"I live in Seattle and have been living there since 2005\");\n",
    "await memory.SaveInformationAsync(MemoryCollectionName, id: \"info4\", text: \"I visited France and Italy five times since 2015\");\n",
    "await memory.SaveInformationAsync(MemoryCollectionName, id: \"info5\", text: \"My family is from New York\");"
   ]
  },
  {
   "cell_type": "code",
   "execution_count": 6,
   "metadata": {
    "vscode": {
     "languageId": "polyglot-notebook"
    }
   },
   "outputs": [
    {
     "name": "stdout",
     "output_type": "stream",
     "text": [
      "what is my name? My name is Andrea\n",
      "where do I live? I live in Seattle and have been living there since 2005\n",
      "where is my family from? My family is from New York\n",
      "where have I travelled? I currently work as a tourist operator\n",
      "what do I do for work? I currently work as a tourist operator\n"
     ]
    }
   ],
   "source": [
    "var history = \"\";\n",
    "var questions = new[]\n",
    "{\n",
    "    \"what is my name?\",\n",
    "    \"where do I live?\",\n",
    "    \"where is my family from?\",\n",
    "    \"where have I travelled?\",\n",
    "    \"what do I do for work?\",\n",
    "};\n",
    "\n",
    "foreach (var q in questions)\n",
    "{\n",
    "    var response = await memory.SearchAsync(MemoryCollectionName, q, limit: 1, minRelevanceScore: 0.3).FirstOrDefaultAsync();\n",
    "    history += response?.Metadata.Text + \"\\n\";\n",
    "    Console.WriteLine(q + \" \" + response?.Metadata.Text);\n",
    "}\n"
   ]
  },
  {
   "cell_type": "code",
   "execution_count": 8,
   "metadata": {
    "vscode": {
     "languageId": "polyglot-notebook"
    }
   },
   "outputs": [],
   "source": [
    "using Microsoft.SemanticKernel.Plugins.Memory;\n",
    "using Microsoft.SemanticKernel.Connectors.OpenAI;\n",
    "\n",
    "#pragma warning disable SKEXP0050, SKEXP0001\n",
    "\n",
    "// TextMemoryPlugin provides the \"recall\" function\n",
    "kernel.ImportPluginFromObject(new TextMemoryPlugin(memory));"
   ]
  },
  {
   "cell_type": "code",
   "execution_count": 9,
   "metadata": {
    "vscode": {
     "languageId": "polyglot-notebook"
    }
   },
   "outputs": [],
   "source": [
    "const string skPrompt = @\"\n",
    "ChatBot can have a conversation with you about any topic.\n",
    "It can give explicit instructions or say 'I don't know' if it does not have an answer.\n",
    "\n",
    "Information about me, from previous conversations:\n",
    "- {{$fact1}} {{recall $fact1}}\n",
    "- {{$fact2}} {{recall $fact2}}\n",
    "- {{$fact3}} {{recall $fact3}}\n",
    "- {{$fact4}} {{recall $fact4}}\n",
    "- {{$fact5}} {{recall $fact5}}\n",
    "\n",
    "Chat:\n",
    "{{$history}}\n",
    "User: {{$userInput}}\n",
    "ChatBot: \";\n",
    "\n",
    "var chatFunction = kernel.CreateFunctionFromPrompt(skPrompt, new OpenAIPromptExecutionSettings { MaxTokens = 200, Temperature = 0.8 });"
   ]
  },
  {
   "cell_type": "code",
   "execution_count": 10,
   "metadata": {
    "vscode": {
     "languageId": "polyglot-notebook"
    }
   },
   "outputs": [],
   "source": [
    "#pragma warning disable SKEXP0001, SKEXP0050\n",
    "\n",
    "var arguments = new KernelArguments();\n",
    "\n",
    "arguments[\"fact1\"] = \"what is my name?\";\n",
    "arguments[\"fact2\"] = \"where do I live?\";\n",
    "arguments[\"fact3\"] = \"where is my family from?\";\n",
    "arguments[\"fact4\"] = \"where have I travelled?\";\n",
    "arguments[\"fact5\"] = \"what do I do for work?\";\n",
    "\n",
    "arguments[TextMemoryPlugin.CollectionParam] = MemoryCollectionName;\n",
    "arguments[TextMemoryPlugin.LimitParam] = \"2\";\n",
    "arguments[TextMemoryPlugin.RelevanceParam] = \"0.8\";"
   ]
  },
  {
   "cell_type": "code",
   "execution_count": 12,
   "metadata": {
    "vscode": {
     "languageId": "polyglot-notebook"
    }
   },
   "outputs": [],
   "source": [
    "arguments[\"history\"] = history;\n",
    "Func<string, Task> Chat = async (string input) => {\n",
    "    // Save new message in the kernel arguments\n",
    "    arguments[\"userInput\"] = input;\n",
    "\n",
    "    // Process the user message and get an answer\n",
    "    var answer = await chatFunction.InvokeAsync(kernel, arguments);\n",
    "\n",
    "    // Append the new interaction to the chat history\n",
    "    var result = $\"\\nUser: {input}\\nChatBot: {answer}\\n\";\n",
    "\n",
    "    history += result;\n",
    "    arguments[\"history\"] = history;\n",
    "    \n",
    "    // Show the bot response\n",
    "    Console.WriteLine(result);\n",
    "};"
   ]
  },
  {
   "cell_type": "code",
   "execution_count": 13,
   "metadata": {
    "vscode": {
     "languageId": "polyglot-notebook"
    }
   },
   "outputs": [
    {
     "name": "stdout",
     "output_type": "stream",
     "text": [
      "\n",
      "User: Tell me everything you remember from our previous conversations.\n",
      "ChatBot: Let's recap the details I've learned about you!\n",
      "\n",
      "From our previous conversations, I recall that:\n",
      "\n",
      "1. Your name is Andrea.\n",
      "2. You reside in Seattle and have been living there since 2005.\n",
      "3. Your family is from New York.\n",
      "4. You work as a tourist operator, guiding travelers around the city.\n",
      "\n",
      "That's all the information I've gathered about you so far! Would you like to chat more or share any new experiences?\n",
      "\n"
     ]
    }
   ],
   "source": [
    "//await Chat(\"Hello, I think we've met before, remember? my name is...\");\n",
    "await Chat(\"Tell me everything you remember from our previous conversations.\");"
   ]
  }
 ],
 "metadata": {
  "kernelspec": {
   "display_name": ".NET (C#)",
   "language": "C#",
   "name": ".net-csharp"
  },
  "language_info": {
   "name": "python"
  },
  "polyglot_notebook": {
   "kernelInfo": {
    "defaultKernelName": "csharp",
    "items": [
     {
      "aliases": [],
      "name": "csharp"
     }
    ]
   }
  }
 },
 "nbformat": 4,
 "nbformat_minor": 2
}
